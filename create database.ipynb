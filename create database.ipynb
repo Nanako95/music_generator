{
 "cells": [
  {
   "cell_type": "code",
   "execution_count": null,
   "id": "0f6afa5e-5f42-41f3-b89c-619a18a47830",
   "metadata": {},
   "outputs": [],
   "source": [
    "import sqlite3"
   ]
  },
  {
   "cell_type": "code",
   "execution_count": null,
   "id": "2977bfdb-c3b8-403e-b153-bc7af51d2ec9",
   "metadata": {},
   "outputs": [],
   "source": [
    "import datetime"
   ]
  },
  {
   "cell_type": "code",
   "execution_count": null,
   "id": "1650ed77-6a27-4263-ba62-61a185e33976",
   "metadata": {},
   "outputs": [],
   "source": [
    "conn =sqlite3.connect(\"log.db\")"
   ]
  },
  {
   "cell_type": "code",
   "execution_count": null,
   "id": "1cf2cff5-fc45-4665-8228-8ddd5c057c9f",
   "metadata": {},
   "outputs": [],
   "source": [
    "conn.execute(\"create table employee (name text, timestamp timestamp)\")"
   ]
  },
  {
   "cell_type": "code",
   "execution_count": null,
   "id": "f2c5fef4-a47a-4c2a-b7a5-c30230882267",
   "metadata": {},
   "outputs": [],
   "source": [
    "conn.close()"
   ]
  },
  {
   "cell_type": "code",
   "execution_count": null,
   "id": "94de3ee5-736f-4bb6-9a04-c31bb3c3db32",
   "metadata": {},
   "outputs": [],
   "source": [
    "conn=sqlite3.connect(\"log.db\")\n",
    "c=conn.execute(\"select * from employee\")\n",
    "c.description"
   ]
  },
  {
   "cell_type": "code",
   "execution_count": null,
   "id": "f968593c-bde1-4d35-ba23-3e2e57e81693",
   "metadata": {},
   "outputs": [],
   "source": [
    "#两个都要关了\n",
    "c.close"
   ]
  },
  {
   "cell_type": "code",
   "execution_count": null,
   "id": "ee006483-b8f3-4ff7-ae80-6f1815dd179b",
   "metadata": {},
   "outputs": [],
   "source": [
    "conn.close()"
   ]
  },
  {
   "cell_type": "code",
   "execution_count": null,
   "id": "e9092882-6bb0-4029-9b2a-e4a49696885b",
   "metadata": {},
   "outputs": [],
   "source": [
    "conn = sqlite3.connect(\"log.db\")\n",
    "c=conn.cursor()\n",
    "name=\"aa\"\n",
    "currentDateTime=datetime.datetime.now()\n",
    "c.execute('insert into employee (name,timestamp) values(?,?)',(name,currentDateTime))\n",
    "conn.commit()"
   ]
  },
  {
   "cell_type": "code",
   "execution_count": null,
   "id": "2be3e962-4e35-444f-b72b-095fe7741452",
   "metadata": {},
   "outputs": [],
   "source": [
    "c.close\n",
    "conn.close()"
   ]
  },
  {
   "cell_type": "code",
   "execution_count": null,
   "id": "5eec2bbe-b8d8-4a27-b8fd-6952dc12238e",
   "metadata": {},
   "outputs": [],
   "source": [
    "conn=sqlite3.connect(\"log.db\")\n",
    "c= conn.execute(\"select * from employee\")"
   ]
  },
  {
   "cell_type": "code",
   "execution_count": null,
   "id": "f4fd7c30-18d3-438c-9d73-98def17f7b2b",
   "metadata": {},
   "outputs": [],
   "source": [
    "row=\"\"\n",
    "for row in c:\n",
    "    print(row)"
   ]
  },
  {
   "cell_type": "code",
   "execution_count": null,
   "id": "386c7a37-a979-4621-af70-2bdfae66c0ee",
   "metadata": {},
   "outputs": [],
   "source": [
    "c.close\n",
    "conn.close()"
   ]
  },
  {
   "cell_type": "code",
   "execution_count": null,
   "id": "73236fd4-3400-46aa-a453-cf9589e29530",
   "metadata": {},
   "outputs": [],
   "source": []
  }
 ],
 "metadata": {
  "kernelspec": {
   "display_name": "Python 3 (ipykernel)",
   "language": "python",
   "name": "python3"
  },
  "language_info": {
   "codemirror_mode": {
    "name": "ipython",
    "version": 3
   },
   "file_extension": ".py",
   "mimetype": "text/x-python",
   "name": "python",
   "nbconvert_exporter": "python",
   "pygments_lexer": "ipython3",
   "version": "3.11.5"
  }
 },
 "nbformat": 4,
 "nbformat_minor": 5
}
